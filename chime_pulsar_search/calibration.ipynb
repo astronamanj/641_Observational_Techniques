{
 "cells": [
  {
   "cell_type": "code",
   "execution_count": null,
   "metadata": {},
   "outputs": [
    {
     "data": {
      "text/plain": [
       "<sigpyproc.readers.FilReader at 0x7fae792a96d0>"
      ]
     },
     "execution_count": 2,
     "metadata": {},
     "output_type": "execute_result"
    }
   ],
   "source": [
    "import functions as fn\n",
    "\n",
    "myFil = fn.FilReader(\"./data/blank_sky.fil\")\n",
    "myFil"
   ]
  },
  {
   "cell_type": "code",
   "execution_count": 3,
   "metadata": {},
   "outputs": [
    {
     "data": {
      "text/html": [
       "<pre style=\"white-space:pre;overflow-x:auto;line-height:normal;font-family:Menlo,'DejaVu Sans Mono',consolas,'Courier New',monospace\"><span style=\"color: #800080; text-decoration-color: #800080; font-weight: bold\">Header</span><span style=\"font-weight: bold\">(</span>\n",
       "    <span style=\"color: #808000; text-decoration-color: #808000\">filename</span>=<span style=\"color: #008000; text-decoration-color: #008000\">'./data/blank_sky.fil'</span>,\n",
       "    <span style=\"color: #808000; text-decoration-color: #808000\">data_type</span>=<span style=\"color: #008000; text-decoration-color: #008000\">'filterbank'</span>,\n",
       "    <span style=\"color: #808000; text-decoration-color: #808000\">nchans</span>=<span style=\"color: #008080; text-decoration-color: #008080; font-weight: bold\">1024</span>,\n",
       "    <span style=\"color: #808000; text-decoration-color: #808000\">foff</span>=<span style=\"color: #008080; text-decoration-color: #008080; font-weight: bold\">-0.390625</span>,\n",
       "    <span style=\"color: #808000; text-decoration-color: #808000\">fch1</span>=<span style=\"color: #008080; text-decoration-color: #008080; font-weight: bold\">800.0</span>,\n",
       "    <span style=\"color: #808000; text-decoration-color: #808000\">nbits</span>=<span style=\"color: #008080; text-decoration-color: #008080; font-weight: bold\">32</span>,\n",
       "    <span style=\"color: #808000; text-decoration-color: #808000\">tsamp</span>=<span style=\"color: #008080; text-decoration-color: #008080; font-weight: bold\">0.00032768</span>,\n",
       "    <span style=\"color: #808000; text-decoration-color: #808000\">tstart</span>=<span style=\"color: #008080; text-decoration-color: #008080; font-weight: bold\">60638.34381999473</span>,\n",
       "    <span style=\"color: #808000; text-decoration-color: #808000\">nsamples</span>=<span style=\"color: #008080; text-decoration-color: #008080; font-weight: bold\">30518</span>,\n",
       "    <span style=\"color: #808000; text-decoration-color: #808000\">nifs</span>=<span style=\"color: #008080; text-decoration-color: #008080; font-weight: bold\">1</span>,\n",
       "    <span style=\"color: #808000; text-decoration-color: #808000\">coord</span>=<span style=\"font-weight: bold\">&lt;</span><span style=\"color: #ff00ff; text-decoration-color: #ff00ff; font-weight: bold\">SkyCoord</span><span style=\"color: #000000; text-decoration-color: #000000\"> </span><span style=\"color: #000000; text-decoration-color: #000000; font-weight: bold\">(</span><span style=\"color: #000000; text-decoration-color: #000000\">ICRS</span><span style=\"color: #000000; text-decoration-color: #000000; font-weight: bold\">)</span><span style=\"color: #000000; text-decoration-color: #000000\">: </span><span style=\"color: #000000; text-decoration-color: #000000; font-weight: bold\">(</span><span style=\"color: #000000; text-decoration-color: #000000\">ra, dec</span><span style=\"color: #000000; text-decoration-color: #000000; font-weight: bold\">)</span><span style=\"color: #000000; text-decoration-color: #000000\"> in deg</span>\n",
       "<span style=\"color: #000000; text-decoration-color: #000000\">    </span><span style=\"color: #000000; text-decoration-color: #000000; font-weight: bold\">(</span><span style=\"color: #008080; text-decoration-color: #008080; font-weight: bold\">68.75000238</span><span style=\"color: #000000; text-decoration-color: #000000\">, </span><span style=\"color: #008080; text-decoration-color: #008080; font-weight: bold\">45.02999878</span><span style=\"color: #000000; text-decoration-color: #000000; font-weight: bold\">)</span><span style=\"color: #000000; text-decoration-color: #000000\">&gt;,</span>\n",
       "<span style=\"color: #000000; text-decoration-color: #000000\">    </span><span style=\"color: #808000; text-decoration-color: #808000\">azimuth</span><span style=\"color: #000000; text-decoration-color: #000000\">=&lt;Angle </span><span style=\"color: #008080; text-decoration-color: #008080; font-weight: bold\">0</span><span style=\"color: #000000; text-decoration-color: #000000\">. deg&gt;,</span>\n",
       "<span style=\"color: #000000; text-decoration-color: #000000\">    </span><span style=\"color: #808000; text-decoration-color: #808000\">zenith</span><span style=\"color: #000000; text-decoration-color: #000000\">=&lt;Angle </span><span style=\"color: #008080; text-decoration-color: #008080; font-weight: bold\">0</span><span style=\"color: #000000; text-decoration-color: #000000\">. deg</span><span style=\"font-weight: bold\">&gt;</span>,\n",
       "    <span style=\"color: #808000; text-decoration-color: #808000\">telescope</span>=<span style=\"color: #008000; text-decoration-color: #008000\">'CHIME'</span>,\n",
       "    <span style=\"color: #808000; text-decoration-color: #808000\">backend</span>=<span style=\"color: #008000; text-decoration-color: #008000\">'CHIME'</span>,\n",
       "    <span style=\"color: #808000; text-decoration-color: #808000\">source</span>=<span style=\"color: #008000; text-decoration-color: #008000\">'Fake'</span>,\n",
       "    <span style=\"color: #808000; text-decoration-color: #808000\">frame</span>=<span style=\"color: #008000; text-decoration-color: #008000\">'topocentric'</span>,\n",
       "    <span style=\"color: #808000; text-decoration-color: #808000\">ibeam</span>=<span style=\"color: #008080; text-decoration-color: #008080; font-weight: bold\">1</span>,\n",
       "    <span style=\"color: #808000; text-decoration-color: #808000\">nbeams</span>=<span style=\"color: #008080; text-decoration-color: #008080; font-weight: bold\">1</span>,\n",
       "    <span style=\"color: #808000; text-decoration-color: #808000\">dm</span>=<span style=\"color: #008080; text-decoration-color: #008080; font-weight: bold\">0.0</span>,\n",
       "    <span style=\"color: #808000; text-decoration-color: #808000\">period</span>=<span style=\"color: #008080; text-decoration-color: #008080; font-weight: bold\">0</span>,\n",
       "    <span style=\"color: #808000; text-decoration-color: #808000\">accel</span>=<span style=\"color: #008080; text-decoration-color: #008080; font-weight: bold\">0</span>,\n",
       "    <span style=\"color: #808000; text-decoration-color: #808000\">signed</span>=<span style=\"color: #008080; text-decoration-color: #008080; font-weight: bold\">0</span>,\n",
       "    <span style=\"color: #808000; text-decoration-color: #808000\">rawdatafile</span>=<span style=\"color: #008000; text-decoration-color: #008000\">'test.dat'</span>,\n",
       "    <span style=\"color: #808000; text-decoration-color: #808000\">stream_info</span>=<span style=\"color: #800080; text-decoration-color: #800080; font-weight: bold\">StreamInfo</span><span style=\"font-weight: bold\">(</span>\n",
       "        <span style=\"color: #808000; text-decoration-color: #808000\">entries</span>=<span style=\"font-weight: bold\">[</span>\n",
       "            <span style=\"color: #800080; text-decoration-color: #800080; font-weight: bold\">FileInfo</span><span style=\"font-weight: bold\">(</span>\n",
       "                <span style=\"color: #808000; text-decoration-color: #808000\">filename</span>=<span style=\"color: #008000; text-decoration-color: #008000\">'./data/blank_sky.fil'</span>,\n",
       "                <span style=\"color: #808000; text-decoration-color: #808000\">hdrlen</span>=<span style=\"color: #008080; text-decoration-color: #008080; font-weight: bold\">414</span>,\n",
       "                <span style=\"color: #808000; text-decoration-color: #808000\">datalen</span>=<span style=\"color: #008080; text-decoration-color: #008080; font-weight: bold\">125001728</span>,\n",
       "                <span style=\"color: #808000; text-decoration-color: #808000\">nsamples</span>=<span style=\"color: #008080; text-decoration-color: #008080; font-weight: bold\">30518</span>,\n",
       "                <span style=\"color: #808000; text-decoration-color: #808000\">tstart</span>=<span style=\"color: #008080; text-decoration-color: #008080; font-weight: bold\">60638.34381999473</span>,\n",
       "                <span style=\"color: #808000; text-decoration-color: #808000\">tsamp</span>=<span style=\"color: #008080; text-decoration-color: #008080; font-weight: bold\">0.00032768</span>\n",
       "            <span style=\"font-weight: bold\">)</span>\n",
       "        <span style=\"font-weight: bold\">]</span>\n",
       "    <span style=\"font-weight: bold\">)</span>\n",
       "<span style=\"font-weight: bold\">)</span>\n",
       "</pre>\n"
      ],
      "text/plain": [
       "\u001b[1;35mHeader\u001b[0m\u001b[1m(\u001b[0m\n",
       "    \u001b[33mfilename\u001b[0m=\u001b[32m'./data/blank_sky.fil'\u001b[0m,\n",
       "    \u001b[33mdata_type\u001b[0m=\u001b[32m'filterbank'\u001b[0m,\n",
       "    \u001b[33mnchans\u001b[0m=\u001b[1;36m1024\u001b[0m,\n",
       "    \u001b[33mfoff\u001b[0m=\u001b[1;36m-0.390625\u001b[0m,\n",
       "    \u001b[33mfch1\u001b[0m=\u001b[1;36m800\u001b[0m\u001b[1;36m.0\u001b[0m,\n",
       "    \u001b[33mnbits\u001b[0m=\u001b[1;36m32\u001b[0m,\n",
       "    \u001b[33mtsamp\u001b[0m=\u001b[1;36m0\u001b[0m\u001b[1;36m.00032768\u001b[0m,\n",
       "    \u001b[33mtstart\u001b[0m=\u001b[1;36m60638\u001b[0m\u001b[1;36m.34381999473\u001b[0m,\n",
       "    \u001b[33mnsamples\u001b[0m=\u001b[1;36m30518\u001b[0m,\n",
       "    \u001b[33mnifs\u001b[0m=\u001b[1;36m1\u001b[0m,\n",
       "    \u001b[33mcoord\u001b[0m=\u001b[1m<\u001b[0m\u001b[1;95mSkyCoord\u001b[0m\u001b[39m \u001b[0m\u001b[1;39m(\u001b[0m\u001b[39mICRS\u001b[0m\u001b[1;39m)\u001b[0m\u001b[39m: \u001b[0m\u001b[1;39m(\u001b[0m\u001b[39mra, dec\u001b[0m\u001b[1;39m)\u001b[0m\u001b[39m in deg\u001b[0m\n",
       "\u001b[39m    \u001b[0m\u001b[1;39m(\u001b[0m\u001b[1;36m68.75000238\u001b[0m\u001b[39m, \u001b[0m\u001b[1;36m45.02999878\u001b[0m\u001b[1;39m)\u001b[0m\u001b[39m>,\u001b[0m\n",
       "\u001b[39m    \u001b[0m\u001b[33mazimuth\u001b[0m\u001b[39m=<Angle \u001b[0m\u001b[1;36m0\u001b[0m\u001b[39m. deg>,\u001b[0m\n",
       "\u001b[39m    \u001b[0m\u001b[33mzenith\u001b[0m\u001b[39m=<Angle \u001b[0m\u001b[1;36m0\u001b[0m\u001b[39m. deg\u001b[0m\u001b[1m>\u001b[0m,\n",
       "    \u001b[33mtelescope\u001b[0m=\u001b[32m'CHIME'\u001b[0m,\n",
       "    \u001b[33mbackend\u001b[0m=\u001b[32m'CHIME'\u001b[0m,\n",
       "    \u001b[33msource\u001b[0m=\u001b[32m'Fake'\u001b[0m,\n",
       "    \u001b[33mframe\u001b[0m=\u001b[32m'topocentric'\u001b[0m,\n",
       "    \u001b[33mibeam\u001b[0m=\u001b[1;36m1\u001b[0m,\n",
       "    \u001b[33mnbeams\u001b[0m=\u001b[1;36m1\u001b[0m,\n",
       "    \u001b[33mdm\u001b[0m=\u001b[1;36m0\u001b[0m\u001b[1;36m.0\u001b[0m,\n",
       "    \u001b[33mperiod\u001b[0m=\u001b[1;36m0\u001b[0m,\n",
       "    \u001b[33maccel\u001b[0m=\u001b[1;36m0\u001b[0m,\n",
       "    \u001b[33msigned\u001b[0m=\u001b[1;36m0\u001b[0m,\n",
       "    \u001b[33mrawdatafile\u001b[0m=\u001b[32m'test.dat'\u001b[0m,\n",
       "    \u001b[33mstream_info\u001b[0m=\u001b[1;35mStreamInfo\u001b[0m\u001b[1m(\u001b[0m\n",
       "        \u001b[33mentries\u001b[0m=\u001b[1m[\u001b[0m\n",
       "            \u001b[1;35mFileInfo\u001b[0m\u001b[1m(\u001b[0m\n",
       "                \u001b[33mfilename\u001b[0m=\u001b[32m'./data/blank_sky.fil'\u001b[0m,\n",
       "                \u001b[33mhdrlen\u001b[0m=\u001b[1;36m414\u001b[0m,\n",
       "                \u001b[33mdatalen\u001b[0m=\u001b[1;36m125001728\u001b[0m,\n",
       "                \u001b[33mnsamples\u001b[0m=\u001b[1;36m30518\u001b[0m,\n",
       "                \u001b[33mtstart\u001b[0m=\u001b[1;36m60638\u001b[0m\u001b[1;36m.34381999473\u001b[0m,\n",
       "                \u001b[33mtsamp\u001b[0m=\u001b[1;36m0\u001b[0m\u001b[1;36m.00032768\u001b[0m\n",
       "            \u001b[1m)\u001b[0m\n",
       "        \u001b[1m]\u001b[0m\n",
       "    \u001b[1m)\u001b[0m\n",
       "\u001b[1m)\u001b[0m\n"
      ]
     },
     "execution_count": 3,
     "metadata": {},
     "output_type": "execute_result"
    }
   ],
   "source": [
    "fn.Pretty(myFil.header)"
   ]
  },
  {
   "cell_type": "code",
   "execution_count": null,
   "metadata": {},
   "outputs": [],
   "source": []
  }
 ],
 "metadata": {
  "kernelspec": {
   "display_name": "base",
   "language": "python",
   "name": "python3"
  },
  "language_info": {
   "codemirror_mode": {
    "name": "ipython",
    "version": 3
   },
   "file_extension": ".py",
   "mimetype": "text/x-python",
   "name": "python",
   "nbconvert_exporter": "python",
   "pygments_lexer": "ipython3",
   "version": "3.9.12"
  }
 },
 "nbformat": 4,
 "nbformat_minor": 2
}
